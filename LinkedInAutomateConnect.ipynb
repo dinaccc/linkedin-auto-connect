{
 "cells": [
  {
   "cell_type": "code",
   "execution_count": null,
   "id": "c0a07bf9",
   "metadata": {},
   "outputs": [],
   "source": [
    "# Reference (resource from Youtube)\n",
    "# Linkedin Message Automation with Selenium two parts https://www.youtube.com/watch?v=XdFUpFUDt88\n",
    "# LinkedIn Contacts Automation with Selenium - Step by Step Bot https://www.youtube.com/watch?v=7aIb6iQZkDw&t=125s"
   ]
  },
  {
   "cell_type": "code",
   "execution_count": null,
   "id": "01ffc2f8",
   "metadata": {
    "scrolled": true
   },
   "outputs": [],
   "source": [
    "!pip install selenium\n",
    "!pip install beautifulsoup4\n",
    "# download chromdriver and put it in driver folder\n",
    "# https://chromedriver.chromium.org/downloads"
   ]
  },
  {
   "cell_type": "code",
   "execution_count": null,
   "id": "4f389497",
   "metadata": {},
   "outputs": [],
   "source": [
    "import os, random, sys, time\n",
    "from urllib.parse import urlparse\n",
    "from selenium import webdriver\n",
    "from bs4 import BeautifulSoup"
   ]
  },
  {
   "cell_type": "code",
   "execution_count": null,
   "id": "757b2df4",
   "metadata": {},
   "outputs": [],
   "source": [
    "browser = webdriver.Chrome('driver/chromedriver')"
   ]
  },
  {
   "cell_type": "code",
   "execution_count": null,
   "id": "c431ac6d",
   "metadata": {},
   "outputs": [],
   "source": [
    "login_page = 'https://www.linkedin.com/login' "
   ]
  },
  {
   "cell_type": "code",
   "execution_count": null,
   "id": "a67695e3",
   "metadata": {},
   "outputs": [],
   "source": [
    "browser.get(login_page)\n",
    "time.sleep(2)"
   ]
  },
  {
   "cell_type": "code",
   "execution_count": null,
   "id": "67ef7046",
   "metadata": {},
   "outputs": [],
   "source": [
    "# config.txt should include username and password in two lines\n",
    "file = open('config.txt')\n",
    "lines = file.readlines()\n",
    "username = lines[0]\n",
    "password = lines[1]"
   ]
  },
  {
   "cell_type": "code",
   "execution_count": null,
   "id": "4aa90212",
   "metadata": {},
   "outputs": [],
   "source": [
    "# target username input field\n",
    "element_id = browser.find_element('id', 'username')\n",
    "element_id.send_keys(username)\n",
    "# target password input field\n",
    "element_id = browser.find_element('id','password')\n",
    "element_id.send_keys(password)\n",
    "# press submit\n",
    "element_id.submit()"
   ]
  },
  {
   "cell_type": "code",
   "execution_count": null,
   "id": "5ff3d750",
   "metadata": {},
   "outputs": [],
   "source": [
    "from selenium.webdriver.common.by import By\n",
    "from selenium.webdriver.support.ui import WebDriverWait\n",
    "from selenium.webdriver.support import expected_conditions as EC"
   ]
  },
  {
   "cell_type": "code",
   "execution_count": null,
   "id": "371811b4",
   "metadata": {},
   "outputs": [],
   "source": [
    "import pandas as pd\n",
    "# there should be a csv file named \"list.csv\" containing contacts in the same directory\n",
    "# read csv file\n",
    "df = pd.read_csv('list.csv')\n",
    "print(df)\n",
    "# make sure indexes pair with number of rows\n",
    "df = df.reset_index() \n",
    "res = []\n",
    "for index, row in df.iterrows():\n",
    "    print(index, '-------------------------------------------')\n",
    "    # extract first name and url\n",
    "    name = row['Name'].split()[0]\n",
    "    url = row['LinkedIn']\n",
    "    # optional to add a note\n",
    "    # message = \"Hi \" + name + \"! I would love to connect!\"\n",
    "    # print(message)\n",
    "    try:\n",
    "        # go to their linkedin page\n",
    "        browser.get(url) \n",
    "        print(name)\n",
    "        time.sleep(2)\n",
    "    except Exception as e:\n",
    "        # to do: catch url not found error\n",
    "        print(\"error: page not found \" , row['Name'], row['LinkedIn'], e)\n",
    "        res.append(row)\n",
    "        continue\n",
    "    try:\n",
    "        # target the card section containing the set of buttons \n",
    "        top_card = browser.find_element(By.CLASS_NAME, \"pv-top-card-v2-ctas\")\n",
    "        # location the set of buttons\n",
    "        all_buttons = top_card.find_elements(By.TAG_NAME, \"button\");\n",
    "        num_btn = len(all_buttons)\n",
    "        print(\"all_buttons\", len(all_buttons))\n",
    "        connect_btn = [btn for btn in all_buttons if btn.text == \"Connect\"]\n",
    "        connect_btn[0].click()\n",
    "        print(\"- Connect\")\n",
    "        # some user profiles have \"Connect\" button and others have \"Message\"/\"Follow\" button\n",
    "        # for the second case, click Connect through clicking \"More\" first\n",
    "    except Exception as e:\n",
    "        # find \"More\" button and then select \"Connect\" in dropdown menu\n",
    "        print(\"can't find Connect, go to More: \", e)\n",
    "        #target \"More\" button\n",
    "        more_btn = [btn for btn in all_buttons if btn.text == \"More\"]\n",
    "        more_btn[0].click()\n",
    "        print(\"found More\")\n",
    "        # target \"Connect\" button in dropdown\n",
    "        dropdown_area = browser.find_element(By.CLASS_NAME, 'pvs-overflow-actions-dropdown__content')\n",
    "        all_dropdowns = dropdown_area.find_elements(By.CLASS_NAME, \"artdeco-dropdown__item\"); \n",
    "        length = len(all_dropdowns) \n",
    "        print(\"length\",length)\n",
    "        time.sleep(2)\n",
    "        # tricky part\n",
    "        path = \"/html/body/div[\" + str(4) + \"]/div[3]/div/div/div/div[2]/div/div/main/section[1]/div[2]/div[3]/div/div[\" + str(2+num_btn-1) + \"]/div/div/ul/li[\" + str(length) + \"]/div\"\n",
    "        print(path)\n",
    "        WebDriverWait(browser, 30).until(EC.element_to_be_clickable((By.XPATH, path))).click()\n",
    "    finally:\n",
    "        # for users that have \"Connect\" button right on their profile, the next step is to click \"Send\" directly\n",
    "        try:\n",
    "            # target Send button\n",
    "            browser.find_element(By.XPATH, \"//button[@aria-label='Send now']\").click()\n",
    "            # remove this row from list\n",
    "            # df.drop(df.index[index])\n",
    "        except Exception as e: \n",
    "            print(\"couldn't find Send: \", e)\n",
    "            # linkedin might prompt \"How did you meet them?\", custom your selection here\n",
    "            browser.find_element(By.XPATH, \"//button[@aria-label='Met at a work-related event']\").click()\n",
    "            time.sleep(2)\n",
    "            # target Connect\n",
    "            browser.find_element(By.XPATH, \"//button[@aria-label='Connect']\").click()\n",
    "            time.sleep(2)\n",
    "            # target Send\n",
    "            browser.find_element(By.XPATH, \"//button[@aria-label='Send now']\").click()\n",
    "            # now res should include all the users that were not added successfully\n",
    "       "
   ]
  },
  {
   "cell_type": "code",
   "execution_count": null,
   "id": "5437864e",
   "metadata": {},
   "outputs": [],
   "source": []
  },
  {
   "cell_type": "code",
   "execution_count": null,
   "id": "155af290",
   "metadata": {},
   "outputs": [],
   "source": []
  },
  {
   "cell_type": "code",
   "execution_count": null,
   "id": "20053e50",
   "metadata": {},
   "outputs": [],
   "source": []
  }
 ],
 "metadata": {
  "kernelspec": {
   "display_name": "Python 3 (ipykernel)",
   "language": "python",
   "name": "python3"
  },
  "language_info": {
   "codemirror_mode": {
    "name": "ipython",
    "version": 3
   },
   "file_extension": ".py",
   "mimetype": "text/x-python",
   "name": "python",
   "nbconvert_exporter": "python",
   "pygments_lexer": "ipython3",
   "version": "3.9.6"
  }
 },
 "nbformat": 4,
 "nbformat_minor": 5
}
